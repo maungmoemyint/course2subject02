{
 "cells": [
  {
   "cell_type": "code",
   "execution_count": 1,
   "id": "e45b6bbb-2511-49c9-ae88-5ec3c30da873",
   "metadata": {},
   "outputs": [],
   "source": [
    "import numpy as np\n",
    "import pandas as pd"
   ]
  },
  {
   "cell_type": "code",
   "execution_count": 2,
   "id": "361093c7-50ef-484d-9ef0-6c63e1914d07",
   "metadata": {},
   "outputs": [],
   "source": [
    "df = pd.read_csv(\"c2_file.csv\")"
   ]
  },
  {
   "cell_type": "code",
   "execution_count": 3,
   "id": "0df873a4-1408-4827-81f9-f7543fb12b4b",
   "metadata": {},
   "outputs": [
    {
     "data": {
      "text/html": [
       "<div>\n",
       "<style scoped>\n",
       "    .dataframe tbody tr th:only-of-type {\n",
       "        vertical-align: middle;\n",
       "    }\n",
       "\n",
       "    .dataframe tbody tr th {\n",
       "        vertical-align: top;\n",
       "    }\n",
       "\n",
       "    .dataframe thead th {\n",
       "        text-align: right;\n",
       "    }\n",
       "</style>\n",
       "<table border=\"1\" class=\"dataframe\">\n",
       "  <thead>\n",
       "    <tr style=\"text-align: right;\">\n",
       "      <th></th>\n",
       "      <th>a</th>\n",
       "      <th>b</th>\n",
       "      <th>c</th>\n",
       "      <th>d</th>\n",
       "    </tr>\n",
       "  </thead>\n",
       "  <tbody>\n",
       "    <tr>\n",
       "      <th>0</th>\n",
       "      <td>yellow</td>\n",
       "      <td>10</td>\n",
       "      <td>2</td>\n",
       "      <td>3.2</td>\n",
       "    </tr>\n",
       "    <tr>\n",
       "      <th>1</th>\n",
       "      <td>green</td>\n",
       "      <td>2</td>\n",
       "      <td>3</td>\n",
       "      <td>8.1</td>\n",
       "    </tr>\n",
       "    <tr>\n",
       "      <th>2</th>\n",
       "      <td>blue</td>\n",
       "      <td>7</td>\n",
       "      <td>1</td>\n",
       "      <td>0.4</td>\n",
       "    </tr>\n",
       "  </tbody>\n",
       "</table>\n",
       "</div>"
      ],
      "text/plain": [
       "        a   b  c    d\n",
       "0  yellow  10  2  3.2\n",
       "1   green   2  3  8.1\n",
       "2    blue   7  1  0.4"
      ]
     },
     "execution_count": 3,
     "metadata": {},
     "output_type": "execute_result"
    }
   ],
   "source": [
    "df"
   ]
  },
  {
   "cell_type": "code",
   "execution_count": 4,
   "id": "b8357436-bf10-41b0-ba0e-bedbb5e85629",
   "metadata": {},
   "outputs": [
    {
     "data": {
      "text/html": [
       "<div>\n",
       "<style scoped>\n",
       "    .dataframe tbody tr th:only-of-type {\n",
       "        vertical-align: middle;\n",
       "    }\n",
       "\n",
       "    .dataframe tbody tr th {\n",
       "        vertical-align: top;\n",
       "    }\n",
       "\n",
       "    .dataframe thead th {\n",
       "        text-align: right;\n",
       "    }\n",
       "</style>\n",
       "<table border=\"1\" class=\"dataframe\">\n",
       "  <thead>\n",
       "    <tr style=\"text-align: right;\">\n",
       "      <th></th>\n",
       "      <th>0</th>\n",
       "      <th>1</th>\n",
       "      <th>2</th>\n",
       "      <th>3</th>\n",
       "    </tr>\n",
       "  </thead>\n",
       "  <tbody>\n",
       "    <tr>\n",
       "      <th>0</th>\n",
       "      <td>a</td>\n",
       "      <td>b</td>\n",
       "      <td>c</td>\n",
       "      <td>d</td>\n",
       "    </tr>\n",
       "    <tr>\n",
       "      <th>1</th>\n",
       "      <td>yellow</td>\n",
       "      <td>10</td>\n",
       "      <td>2</td>\n",
       "      <td>3.2</td>\n",
       "    </tr>\n",
       "    <tr>\n",
       "      <th>2</th>\n",
       "      <td>green</td>\n",
       "      <td>2</td>\n",
       "      <td>3</td>\n",
       "      <td>8.1</td>\n",
       "    </tr>\n",
       "    <tr>\n",
       "      <th>3</th>\n",
       "      <td>blue</td>\n",
       "      <td>7</td>\n",
       "      <td>1</td>\n",
       "      <td>0.4</td>\n",
       "    </tr>\n",
       "  </tbody>\n",
       "</table>\n",
       "</div>"
      ],
      "text/plain": [
       "        0   1  2    3\n",
       "0       a   b  c    d\n",
       "1  yellow  10  2  3.2\n",
       "2   green   2  3  8.1\n",
       "3    blue   7  1  0.4"
      ]
     },
     "execution_count": 4,
     "metadata": {},
     "output_type": "execute_result"
    }
   ],
   "source": [
    "pd.read_csv(\"c2_file.csv\", header=None)"
   ]
  },
  {
   "cell_type": "code",
   "execution_count": 5,
   "id": "7936e59c-5d7f-46ca-9a88-65e298bce9b5",
   "metadata": {},
   "outputs": [
    {
     "data": {
      "text/html": [
       "<div>\n",
       "<style scoped>\n",
       "    .dataframe tbody tr th:only-of-type {\n",
       "        vertical-align: middle;\n",
       "    }\n",
       "\n",
       "    .dataframe tbody tr th {\n",
       "        vertical-align: top;\n",
       "    }\n",
       "\n",
       "    .dataframe thead th {\n",
       "        text-align: right;\n",
       "    }\n",
       "</style>\n",
       "<table border=\"1\" class=\"dataframe\">\n",
       "  <thead>\n",
       "    <tr style=\"text-align: right;\">\n",
       "      <th></th>\n",
       "      <th>column 1</th>\n",
       "      <th>column 2</th>\n",
       "      <th>column 3</th>\n",
       "      <th>column 4</th>\n",
       "    </tr>\n",
       "  </thead>\n",
       "  <tbody>\n",
       "    <tr>\n",
       "      <th>0</th>\n",
       "      <td>a</td>\n",
       "      <td>b</td>\n",
       "      <td>c</td>\n",
       "      <td>d</td>\n",
       "    </tr>\n",
       "    <tr>\n",
       "      <th>1</th>\n",
       "      <td>yellow</td>\n",
       "      <td>10</td>\n",
       "      <td>2</td>\n",
       "      <td>3.2</td>\n",
       "    </tr>\n",
       "    <tr>\n",
       "      <th>2</th>\n",
       "      <td>green</td>\n",
       "      <td>2</td>\n",
       "      <td>3</td>\n",
       "      <td>8.1</td>\n",
       "    </tr>\n",
       "    <tr>\n",
       "      <th>3</th>\n",
       "      <td>blue</td>\n",
       "      <td>7</td>\n",
       "      <td>1</td>\n",
       "      <td>0.4</td>\n",
       "    </tr>\n",
       "  </tbody>\n",
       "</table>\n",
       "</div>"
      ],
      "text/plain": [
       "  column 1 column 2 column 3 column 4\n",
       "0        a        b        c        d\n",
       "1   yellow       10        2      3.2\n",
       "2    green        2        3      8.1\n",
       "3     blue        7        1      0.4"
      ]
     },
     "execution_count": 5,
     "metadata": {},
     "output_type": "execute_result"
    }
   ],
   "source": [
    "pd.read_csv(\"c2_file.csv\", names=[\"column 1\", \"column 2\", \"column 3\", \"column 4\"])"
   ]
  },
  {
   "cell_type": "code",
   "execution_count": 6,
   "id": "81cf2ea0-b10d-4a98-a1dd-da2cadcbe1e7",
   "metadata": {},
   "outputs": [
    {
     "data": {
      "text/html": [
       "<div>\n",
       "<style scoped>\n",
       "    .dataframe tbody tr th:only-of-type {\n",
       "        vertical-align: middle;\n",
       "    }\n",
       "\n",
       "    .dataframe tbody tr th {\n",
       "        vertical-align: top;\n",
       "    }\n",
       "\n",
       "    .dataframe thead th {\n",
       "        text-align: right;\n",
       "    }\n",
       "</style>\n",
       "<table border=\"1\" class=\"dataframe\">\n",
       "  <thead>\n",
       "    <tr style=\"text-align: right;\">\n",
       "      <th></th>\n",
       "      <th>b</th>\n",
       "      <th>c</th>\n",
       "      <th>d</th>\n",
       "    </tr>\n",
       "    <tr>\n",
       "      <th>a</th>\n",
       "      <th></th>\n",
       "      <th></th>\n",
       "      <th></th>\n",
       "    </tr>\n",
       "  </thead>\n",
       "  <tbody>\n",
       "    <tr>\n",
       "      <th>yellow</th>\n",
       "      <td>10</td>\n",
       "      <td>2</td>\n",
       "      <td>3.2</td>\n",
       "    </tr>\n",
       "    <tr>\n",
       "      <th>green</th>\n",
       "      <td>2</td>\n",
       "      <td>3</td>\n",
       "      <td>8.1</td>\n",
       "    </tr>\n",
       "    <tr>\n",
       "      <th>blue</th>\n",
       "      <td>7</td>\n",
       "      <td>1</td>\n",
       "      <td>0.4</td>\n",
       "    </tr>\n",
       "  </tbody>\n",
       "</table>\n",
       "</div>"
      ],
      "text/plain": [
       "         b  c    d\n",
       "a                 \n",
       "yellow  10  2  3.2\n",
       "green    2  3  8.1\n",
       "blue     7  1  0.4"
      ]
     },
     "execution_count": 6,
     "metadata": {},
     "output_type": "execute_result"
    }
   ],
   "source": [
    "pd.read_csv(\"c2_file.csv\", index_col=0)"
   ]
  },
  {
   "cell_type": "code",
   "execution_count": 7,
   "id": "eade3fba-87ce-41da-bc35-fd821e8dc920",
   "metadata": {},
   "outputs": [
    {
     "data": {
      "text/plain": [
       "a     object\n",
       "b      int64\n",
       "c      int64\n",
       "d    float64\n",
       "dtype: object"
      ]
     },
     "execution_count": 7,
     "metadata": {},
     "output_type": "execute_result"
    }
   ],
   "source": [
    "df.dtypes"
   ]
  },
  {
   "cell_type": "code",
   "execution_count": 8,
   "id": "0ef5ed63-1f9a-41c3-a40e-e0983a33222e",
   "metadata": {},
   "outputs": [
    {
     "data": {
      "text/html": [
       "<div>\n",
       "<style scoped>\n",
       "    .dataframe tbody tr th:only-of-type {\n",
       "        vertical-align: middle;\n",
       "    }\n",
       "\n",
       "    .dataframe tbody tr th {\n",
       "        vertical-align: top;\n",
       "    }\n",
       "\n",
       "    .dataframe thead th {\n",
       "        text-align: right;\n",
       "    }\n",
       "</style>\n",
       "<table border=\"1\" class=\"dataframe\">\n",
       "  <thead>\n",
       "    <tr style=\"text-align: right;\">\n",
       "      <th></th>\n",
       "      <th>a</th>\n",
       "      <th>b</th>\n",
       "      <th>c</th>\n",
       "      <th>d</th>\n",
       "    </tr>\n",
       "  </thead>\n",
       "  <tbody>\n",
       "    <tr>\n",
       "      <th>0</th>\n",
       "      <td>yellow</td>\n",
       "      <td>10</td>\n",
       "      <td>2</td>\n",
       "      <td>3.2</td>\n",
       "    </tr>\n",
       "    <tr>\n",
       "      <th>1</th>\n",
       "      <td>green</td>\n",
       "      <td>2</td>\n",
       "      <td>3</td>\n",
       "      <td>8.1</td>\n",
       "    </tr>\n",
       "    <tr>\n",
       "      <th>2</th>\n",
       "      <td>blue</td>\n",
       "      <td>7</td>\n",
       "      <td>1</td>\n",
       "      <td>0.4</td>\n",
       "    </tr>\n",
       "  </tbody>\n",
       "</table>\n",
       "</div>"
      ],
      "text/plain": [
       "        a   b  c    d\n",
       "0  yellow  10  2  3.2\n",
       "1   green   2  3  8.1\n",
       "2    blue   7  1  0.4"
      ]
     },
     "execution_count": 8,
     "metadata": {},
     "output_type": "execute_result"
    }
   ],
   "source": [
    "df"
   ]
  },
  {
   "cell_type": "code",
   "execution_count": 9,
   "id": "0fd027b5-1c2b-4cfa-a2a5-4a65ce9517da",
   "metadata": {},
   "outputs": [
    {
     "data": {
      "text/plain": [
       "a     object\n",
       "b    float64\n",
       "c      int64\n",
       "d    float64\n",
       "dtype: object"
      ]
     },
     "execution_count": 9,
     "metadata": {},
     "output_type": "execute_result"
    }
   ],
   "source": [
    "df2 = pd.read_csv(\"c2_file.csv\", dtype={\"b\": np.float64})\n",
    "df2.dtypes"
   ]
  },
  {
   "cell_type": "code",
   "execution_count": 10,
   "id": "b1e9f6d1-7b7a-4d66-be56-821a027c838a",
   "metadata": {},
   "outputs": [
    {
     "data": {
      "text/html": [
       "<div>\n",
       "<style scoped>\n",
       "    .dataframe tbody tr th:only-of-type {\n",
       "        vertical-align: middle;\n",
       "    }\n",
       "\n",
       "    .dataframe tbody tr th {\n",
       "        vertical-align: top;\n",
       "    }\n",
       "\n",
       "    .dataframe thead th {\n",
       "        text-align: right;\n",
       "    }\n",
       "</style>\n",
       "<table border=\"1\" class=\"dataframe\">\n",
       "  <thead>\n",
       "    <tr style=\"text-align: right;\">\n",
       "      <th></th>\n",
       "      <th>a</th>\n",
       "      <th>b</th>\n",
       "      <th>c</th>\n",
       "      <th>d</th>\n",
       "    </tr>\n",
       "  </thead>\n",
       "  <tbody>\n",
       "    <tr>\n",
       "      <th>0</th>\n",
       "      <td>yellow</td>\n",
       "      <td>10.0</td>\n",
       "      <td>2</td>\n",
       "      <td>3.2</td>\n",
       "    </tr>\n",
       "    <tr>\n",
       "      <th>1</th>\n",
       "      <td>green</td>\n",
       "      <td>2.0</td>\n",
       "      <td>3</td>\n",
       "      <td>8.1</td>\n",
       "    </tr>\n",
       "    <tr>\n",
       "      <th>2</th>\n",
       "      <td>blue</td>\n",
       "      <td>7.0</td>\n",
       "      <td>1</td>\n",
       "      <td>0.4</td>\n",
       "    </tr>\n",
       "  </tbody>\n",
       "</table>\n",
       "</div>"
      ],
      "text/plain": [
       "        a     b  c    d\n",
       "0  yellow  10.0  2  3.2\n",
       "1   green   2.0  3  8.1\n",
       "2    blue   7.0  1  0.4"
      ]
     },
     "execution_count": 10,
     "metadata": {},
     "output_type": "execute_result"
    }
   ],
   "source": [
    "df2"
   ]
  },
  {
   "cell_type": "code",
   "execution_count": 11,
   "id": "f7d07382-1c07-47c0-8b60-b362da34810b",
   "metadata": {},
   "outputs": [
    {
     "data": {
      "text/html": [
       "<div>\n",
       "<style scoped>\n",
       "    .dataframe tbody tr th:only-of-type {\n",
       "        vertical-align: middle;\n",
       "    }\n",
       "\n",
       "    .dataframe tbody tr th {\n",
       "        vertical-align: top;\n",
       "    }\n",
       "\n",
       "    .dataframe thead th {\n",
       "        text-align: right;\n",
       "    }\n",
       "</style>\n",
       "<table border=\"1\" class=\"dataframe\">\n",
       "  <thead>\n",
       "    <tr style=\"text-align: right;\">\n",
       "      <th></th>\n",
       "      <th>a</th>\n",
       "      <th>b</th>\n",
       "    </tr>\n",
       "  </thead>\n",
       "  <tbody>\n",
       "    <tr>\n",
       "      <th>0</th>\n",
       "      <td>yellow</td>\n",
       "      <td>10</td>\n",
       "    </tr>\n",
       "    <tr>\n",
       "      <th>1</th>\n",
       "      <td>green</td>\n",
       "      <td>2</td>\n",
       "    </tr>\n",
       "    <tr>\n",
       "      <th>2</th>\n",
       "      <td>blue</td>\n",
       "      <td>7</td>\n",
       "    </tr>\n",
       "  </tbody>\n",
       "</table>\n",
       "</div>"
      ],
      "text/plain": [
       "        a   b\n",
       "0  yellow  10\n",
       "1   green   2\n",
       "2    blue   7"
      ]
     },
     "execution_count": 11,
     "metadata": {},
     "output_type": "execute_result"
    }
   ],
   "source": [
    "pd.read_csv(\"c2_file.csv\", usecols=[\"a\", \"b\"])"
   ]
  },
  {
   "cell_type": "code",
   "execution_count": 12,
   "id": "d24576a6-cc3d-46f5-80c2-c0636a642187",
   "metadata": {},
   "outputs": [
    {
     "data": {
      "text/html": [
       "<div>\n",
       "<style scoped>\n",
       "    .dataframe tbody tr th:only-of-type {\n",
       "        vertical-align: middle;\n",
       "    }\n",
       "\n",
       "    .dataframe tbody tr th {\n",
       "        vertical-align: top;\n",
       "    }\n",
       "\n",
       "    .dataframe thead th {\n",
       "        text-align: right;\n",
       "    }\n",
       "</style>\n",
       "<table border=\"1\" class=\"dataframe\">\n",
       "  <thead>\n",
       "    <tr style=\"text-align: right;\">\n",
       "      <th></th>\n",
       "      <th>varA</th>\n",
       "      <th>varB</th>\n",
       "      <th>varC</th>\n",
       "    </tr>\n",
       "  </thead>\n",
       "  <tbody>\n",
       "    <tr>\n",
       "      <th>0</th>\n",
       "      <td>0.391723</td>\n",
       "      <td>-0.155122</td>\n",
       "      <td>0.381104</td>\n",
       "    </tr>\n",
       "    <tr>\n",
       "      <th>1</th>\n",
       "      <td>0.575125</td>\n",
       "      <td>-0.105817</td>\n",
       "      <td>0.232245</td>\n",
       "    </tr>\n",
       "    <tr>\n",
       "      <th>2</th>\n",
       "      <td>0.672305</td>\n",
       "      <td>0.424688</td>\n",
       "      <td>-0.694795</td>\n",
       "    </tr>\n",
       "    <tr>\n",
       "      <th>3</th>\n",
       "      <td>0.766115</td>\n",
       "      <td>-0.791350</td>\n",
       "      <td>-0.028739</td>\n",
       "    </tr>\n",
       "    <tr>\n",
       "      <th>4</th>\n",
       "      <td>0.677259</td>\n",
       "      <td>-0.817543</td>\n",
       "      <td>-0.537088</td>\n",
       "    </tr>\n",
       "    <tr>\n",
       "      <th>5</th>\n",
       "      <td>-0.029702</td>\n",
       "      <td>-0.891848</td>\n",
       "      <td>-0.682719</td>\n",
       "    </tr>\n",
       "    <tr>\n",
       "      <th>6</th>\n",
       "      <td>-0.161366</td>\n",
       "      <td>-0.659600</td>\n",
       "      <td>-0.727898</td>\n",
       "    </tr>\n",
       "    <tr>\n",
       "      <th>7</th>\n",
       "      <td>0.031672</td>\n",
       "      <td>0.016607</td>\n",
       "      <td>-0.940479</td>\n",
       "    </tr>\n",
       "    <tr>\n",
       "      <th>8</th>\n",
       "      <td>0.833212</td>\n",
       "      <td>-0.503236</td>\n",
       "      <td>-0.887210</td>\n",
       "    </tr>\n",
       "    <tr>\n",
       "      <th>9</th>\n",
       "      <td>0.907753</td>\n",
       "      <td>0.265177</td>\n",
       "      <td>-0.390762</td>\n",
       "    </tr>\n",
       "  </tbody>\n",
       "</table>\n",
       "</div>"
      ],
      "text/plain": [
       "       varA      varB      varC\n",
       "0  0.391723 -0.155122  0.381104\n",
       "1  0.575125 -0.105817  0.232245\n",
       "2  0.672305  0.424688 -0.694795\n",
       "3  0.766115 -0.791350 -0.028739\n",
       "4  0.677259 -0.817543 -0.537088\n",
       "5 -0.029702 -0.891848 -0.682719\n",
       "6 -0.161366 -0.659600 -0.727898\n",
       "7  0.031672  0.016607 -0.940479\n",
       "8  0.833212 -0.503236 -0.887210\n",
       "9  0.907753  0.265177 -0.390762"
      ]
     },
     "execution_count": 12,
     "metadata": {},
     "output_type": "execute_result"
    }
   ],
   "source": [
    "# import pandas as pd\n",
    "pd.read_excel(\"c2_data.xls\")"
   ]
  },
  {
   "cell_type": "code",
   "execution_count": 13,
   "id": "478a55f3-0c6e-4883-b77b-ba48a0ddefcf",
   "metadata": {},
   "outputs": [
    {
     "data": {
      "text/html": [
       "<div>\n",
       "<style scoped>\n",
       "    .dataframe tbody tr th:only-of-type {\n",
       "        vertical-align: middle;\n",
       "    }\n",
       "\n",
       "    .dataframe tbody tr th {\n",
       "        vertical-align: top;\n",
       "    }\n",
       "\n",
       "    .dataframe thead th {\n",
       "        text-align: right;\n",
       "    }\n",
       "</style>\n",
       "<table border=\"1\" class=\"dataframe\">\n",
       "  <thead>\n",
       "    <tr style=\"text-align: right;\">\n",
       "      <th></th>\n",
       "      <th>varD</th>\n",
       "      <th>varE</th>\n",
       "      <th>varF</th>\n",
       "    </tr>\n",
       "  </thead>\n",
       "  <tbody>\n",
       "    <tr>\n",
       "      <th>0</th>\n",
       "      <td>0.907753</td>\n",
       "      <td>0.265177</td>\n",
       "      <td>-0.390762</td>\n",
       "    </tr>\n",
       "    <tr>\n",
       "      <th>1</th>\n",
       "      <td>0.755019</td>\n",
       "      <td>-0.768056</td>\n",
       "      <td>-0.528307</td>\n",
       "    </tr>\n",
       "    <tr>\n",
       "      <th>2</th>\n",
       "      <td>0.850692</td>\n",
       "      <td>-0.537159</td>\n",
       "      <td>-0.601387</td>\n",
       "    </tr>\n",
       "    <tr>\n",
       "      <th>3</th>\n",
       "      <td>0.131663</td>\n",
       "      <td>0.941327</td>\n",
       "      <td>0.240073</td>\n",
       "    </tr>\n",
       "    <tr>\n",
       "      <th>4</th>\n",
       "      <td>0.574400</td>\n",
       "      <td>0.091735</td>\n",
       "      <td>-0.395277</td>\n",
       "    </tr>\n",
       "    <tr>\n",
       "      <th>5</th>\n",
       "      <td>0.816630</td>\n",
       "      <td>0.875612</td>\n",
       "      <td>-0.880044</td>\n",
       "    </tr>\n",
       "    <tr>\n",
       "      <th>6</th>\n",
       "      <td>0.536732</td>\n",
       "      <td>0.175428</td>\n",
       "      <td>-0.473053</td>\n",
       "    </tr>\n",
       "    <tr>\n",
       "      <th>7</th>\n",
       "      <td>-0.084641</td>\n",
       "      <td>-0.042827</td>\n",
       "      <td>0.053344</td>\n",
       "    </tr>\n",
       "    <tr>\n",
       "      <th>8</th>\n",
       "      <td>0.268271</td>\n",
       "      <td>-0.010628</td>\n",
       "      <td>-0.090952</td>\n",
       "    </tr>\n",
       "    <tr>\n",
       "      <th>9</th>\n",
       "      <td>0.166792</td>\n",
       "      <td>-0.872579</td>\n",
       "      <td>-0.556899</td>\n",
       "    </tr>\n",
       "  </tbody>\n",
       "</table>\n",
       "</div>"
      ],
      "text/plain": [
       "       varD      varE      varF\n",
       "0  0.907753  0.265177 -0.390762\n",
       "1  0.755019 -0.768056 -0.528307\n",
       "2  0.850692 -0.537159 -0.601387\n",
       "3  0.131663  0.941327  0.240073\n",
       "4  0.574400  0.091735 -0.395277\n",
       "5  0.816630  0.875612 -0.880044\n",
       "6  0.536732  0.175428 -0.473053\n",
       "7 -0.084641 -0.042827  0.053344\n",
       "8  0.268271 -0.010628 -0.090952\n",
       "9  0.166792 -0.872579 -0.556899"
      ]
     },
     "execution_count": 13,
     "metadata": {},
     "output_type": "execute_result"
    }
   ],
   "source": [
    "pd.read_excel(\"c2_data.xls\", sheet_name=\"Sheet2\") # worksheet2"
   ]
  },
  {
   "cell_type": "code",
   "execution_count": 2,
   "id": "cc91c762-b275-4a1d-8d87-076c8e2171bc",
   "metadata": {},
   "outputs": [
    {
     "data": {
      "text/html": [
       "<div>\n",
       "<style scoped>\n",
       "    .dataframe tbody tr th:only-of-type {\n",
       "        vertical-align: middle;\n",
       "    }\n",
       "\n",
       "    .dataframe tbody tr th {\n",
       "        vertical-align: top;\n",
       "    }\n",
       "\n",
       "    .dataframe thead th {\n",
       "        text-align: right;\n",
       "    }\n",
       "</style>\n",
       "<table border=\"1\" class=\"dataframe\">\n",
       "  <thead>\n",
       "    <tr style=\"text-align: right;\">\n",
       "      <th></th>\n",
       "      <th>col1</th>\n",
       "      <th>col2</th>\n",
       "      <th>col3</th>\n",
       "      <th>col4</th>\n",
       "    </tr>\n",
       "  </thead>\n",
       "  <tbody>\n",
       "    <tr>\n",
       "      <th>row1</th>\n",
       "      <td>0</td>\n",
       "      <td>1</td>\n",
       "      <td>2</td>\n",
       "      <td>3</td>\n",
       "    </tr>\n",
       "    <tr>\n",
       "      <th>row2</th>\n",
       "      <td>4</td>\n",
       "      <td>5</td>\n",
       "      <td>6</td>\n",
       "      <td>7</td>\n",
       "    </tr>\n",
       "    <tr>\n",
       "      <th>row3</th>\n",
       "      <td>8</td>\n",
       "      <td>9</td>\n",
       "      <td>10</td>\n",
       "      <td>11</td>\n",
       "    </tr>\n",
       "    <tr>\n",
       "      <th>row4</th>\n",
       "      <td>12</td>\n",
       "      <td>13</td>\n",
       "      <td>14</td>\n",
       "      <td>15</td>\n",
       "    </tr>\n",
       "  </tbody>\n",
       "</table>\n",
       "</div>"
      ],
      "text/plain": [
       "      col1  col2  col3  col4\n",
       "row1     0     1     2     3\n",
       "row2     4     5     6     7\n",
       "row3     8     9    10    11\n",
       "row4    12    13    14    15"
      ]
     },
     "execution_count": 2,
     "metadata": {},
     "output_type": "execute_result"
    }
   ],
   "source": [
    "# import pandas as pd\n",
    "pd.read_json(\"c2_frame.json\")"
   ]
  },
  {
   "cell_type": "code",
   "execution_count": 3,
   "id": "105c18a3-d201-4de9-b15a-142821cef107",
   "metadata": {},
   "outputs": [
    {
     "data": {
      "text/html": [
       "<div>\n",
       "<style scoped>\n",
       "    .dataframe tbody tr th:only-of-type {\n",
       "        vertical-align: middle;\n",
       "    }\n",
       "\n",
       "    .dataframe tbody tr th {\n",
       "        vertical-align: top;\n",
       "    }\n",
       "\n",
       "    .dataframe thead th {\n",
       "        text-align: right;\n",
       "    }\n",
       "</style>\n",
       "<table border=\"1\" class=\"dataframe\">\n",
       "  <thead>\n",
       "    <tr style=\"text-align: right;\">\n",
       "      <th></th>\n",
       "      <th>books</th>\n",
       "    </tr>\n",
       "  </thead>\n",
       "  <tbody>\n",
       "    <tr>\n",
       "      <th>0</th>\n",
       "      <td>{'isbn': '9781593275846', 'title': 'Eloquent J...</td>\n",
       "    </tr>\n",
       "    <tr>\n",
       "      <th>1</th>\n",
       "      <td>{'isbn': '9781449331818', 'title': 'Learning J...</td>\n",
       "    </tr>\n",
       "    <tr>\n",
       "      <th>2</th>\n",
       "      <td>{'isbn': '9781449365035', 'title': 'Speaking J...</td>\n",
       "    </tr>\n",
       "  </tbody>\n",
       "</table>\n",
       "</div>"
      ],
      "text/plain": [
       "                                               books\n",
       "0  {'isbn': '9781593275846', 'title': 'Eloquent J...\n",
       "1  {'isbn': '9781449331818', 'title': 'Learning J...\n",
       "2  {'isbn': '9781449365035', 'title': 'Speaking J..."
      ]
     },
     "execution_count": 3,
     "metadata": {},
     "output_type": "execute_result"
    }
   ],
   "source": [
    "pd.read_json(\"c2_books.json\")"
   ]
  },
  {
   "cell_type": "code",
   "execution_count": 4,
   "id": "0ca41043-0c62-47c1-ad42-9e2d955b6d36",
   "metadata": {},
   "outputs": [],
   "source": [
    "import json\n",
    "from pandas import json_normalize"
   ]
  },
  {
   "cell_type": "code",
   "execution_count": 5,
   "id": "f599e660-fe38-45b5-a856-ee2f0b12fc5b",
   "metadata": {},
   "outputs": [],
   "source": [
    "with open(\"c2_books.json\", \"r\") as f:\n",
    "    json_string = f.read()\n",
    "    dictionary = json.loads(json_string)"
   ]
  },
  {
   "cell_type": "code",
   "execution_count": 6,
   "id": "cff43e63-67df-43c8-beb0-55ac1c60a763",
   "metadata": {},
   "outputs": [
    {
     "data": {
      "text/html": [
       "<div>\n",
       "<style scoped>\n",
       "    .dataframe tbody tr th:only-of-type {\n",
       "        vertical-align: middle;\n",
       "    }\n",
       "\n",
       "    .dataframe tbody tr th {\n",
       "        vertical-align: top;\n",
       "    }\n",
       "\n",
       "    .dataframe thead th {\n",
       "        text-align: right;\n",
       "    }\n",
       "</style>\n",
       "<table border=\"1\" class=\"dataframe\">\n",
       "  <thead>\n",
       "    <tr style=\"text-align: right;\">\n",
       "      <th></th>\n",
       "      <th>isbn</th>\n",
       "      <th>title</th>\n",
       "      <th>subtitle</th>\n",
       "      <th>author</th>\n",
       "      <th>published</th>\n",
       "      <th>publisher</th>\n",
       "      <th>pages</th>\n",
       "      <th>description</th>\n",
       "      <th>website</th>\n",
       "    </tr>\n",
       "  </thead>\n",
       "  <tbody>\n",
       "    <tr>\n",
       "      <th>0</th>\n",
       "      <td>9781593275846</td>\n",
       "      <td>Eloquent JavaScript, Second Edition</td>\n",
       "      <td>A Modern Introduction to Programming</td>\n",
       "      <td>Marijn Haverbeke</td>\n",
       "      <td>2014-12-14T00:00:00.000Z</td>\n",
       "      <td>No Starch Press</td>\n",
       "      <td>472</td>\n",
       "      <td>JavaScript lies at the heart of almost every m...</td>\n",
       "      <td>http://eloquentjavascript.net/</td>\n",
       "    </tr>\n",
       "    <tr>\n",
       "      <th>1</th>\n",
       "      <td>9781449331818</td>\n",
       "      <td>Learning JavaScript Design Patterns</td>\n",
       "      <td>A JavaScript and jQuery Developer's Guide</td>\n",
       "      <td>Addy Osmani</td>\n",
       "      <td>2012-07-01T00:00:00.000Z</td>\n",
       "      <td>O'Reilly Media</td>\n",
       "      <td>254</td>\n",
       "      <td>With Learning JavaScript Design Patterns, you'...</td>\n",
       "      <td>http://www.addyosmani.com/resources/essentialj...</td>\n",
       "    </tr>\n",
       "    <tr>\n",
       "      <th>2</th>\n",
       "      <td>9781449365035</td>\n",
       "      <td>Speaking JavaScript</td>\n",
       "      <td>An In-Depth Guide for Programmers</td>\n",
       "      <td>Axel Rauschmayer</td>\n",
       "      <td>2014-02-01T00:00:00.000Z</td>\n",
       "      <td>O'Reilly Media</td>\n",
       "      <td>460</td>\n",
       "      <td>Like it or not, JavaScript is everywhere these...</td>\n",
       "      <td>http://speakingjs.com/</td>\n",
       "    </tr>\n",
       "  </tbody>\n",
       "</table>\n",
       "</div>"
      ],
      "text/plain": [
       "            isbn                                title  \\\n",
       "0  9781593275846  Eloquent JavaScript, Second Edition   \n",
       "1  9781449331818  Learning JavaScript Design Patterns   \n",
       "2  9781449365035                  Speaking JavaScript   \n",
       "\n",
       "                                    subtitle            author  \\\n",
       "0       A Modern Introduction to Programming  Marijn Haverbeke   \n",
       "1  A JavaScript and jQuery Developer's Guide       Addy Osmani   \n",
       "2          An In-Depth Guide for Programmers  Axel Rauschmayer   \n",
       "\n",
       "                  published        publisher  pages  \\\n",
       "0  2014-12-14T00:00:00.000Z  No Starch Press    472   \n",
       "1  2012-07-01T00:00:00.000Z   O'Reilly Media    254   \n",
       "2  2014-02-01T00:00:00.000Z   O'Reilly Media    460   \n",
       "\n",
       "                                         description  \\\n",
       "0  JavaScript lies at the heart of almost every m...   \n",
       "1  With Learning JavaScript Design Patterns, you'...   \n",
       "2  Like it or not, JavaScript is everywhere these...   \n",
       "\n",
       "                                             website  \n",
       "0                     http://eloquentjavascript.net/  \n",
       "1  http://www.addyosmani.com/resources/essentialj...  \n",
       "2                             http://speakingjs.com/  "
      ]
     },
     "execution_count": 6,
     "metadata": {},
     "output_type": "execute_result"
    }
   ],
   "source": [
    "json_normalize(dictionary, 'books')"
   ]
  },
  {
   "cell_type": "markdown",
   "id": "101c1dae-898b-4f67-958b-5d7ad306b555",
   "metadata": {},
   "source": [
    "### Reading HTML"
   ]
  },
  {
   "cell_type": "code",
   "execution_count": 7,
   "id": "7347be58-704b-4f5d-9b4f-a7cc72a58bc4",
   "metadata": {},
   "outputs": [],
   "source": [
    "import requests"
   ]
  },
  {
   "cell_type": "code",
   "execution_count": 8,
   "id": "e2df7e86-5421-46b4-8b9d-f12395bbb49d",
   "metadata": {},
   "outputs": [],
   "source": [
    "page = requests.get(\n",
    "\"https://web.archive.org/web/20180908144902/en.proverbia.net/shortfamousquotes.asp\"\n",
    ")"
   ]
  },
  {
   "cell_type": "code",
   "execution_count": 9,
   "id": "95161f1a-4e98-4c9a-9444-1e7a9e5ab851",
   "metadata": {},
   "outputs": [
    {
     "data": {
      "text/plain": [
       "'\\n<!DOCTYPE html>\\n\\n<html lang=\"en\" xml:lang=\"en\">\\n<head><script type=\"text/javascript\" src=\"https://w'"
      ]
     },
     "execution_count": 9,
     "metadata": {},
     "output_type": "execute_result"
    }
   ],
   "source": [
    "page.text[0:100]"
   ]
  },
  {
   "cell_type": "code",
   "execution_count": 10,
   "id": "babdb052-24ea-4ee0-9fc4-9297002224e1",
   "metadata": {},
   "outputs": [
    {
     "data": {
      "text/plain": [
       "200"
      ]
     },
     "execution_count": 10,
     "metadata": {},
     "output_type": "execute_result"
    }
   ],
   "source": [
    "page.status_code"
   ]
  },
  {
   "cell_type": "code",
   "execution_count": 11,
   "id": "6f7e3d18-366e-4eee-b203-51df1898c55b",
   "metadata": {},
   "outputs": [],
   "source": [
    "from bs4 import BeautifulSoup"
   ]
  },
  {
   "cell_type": "code",
   "execution_count": 12,
   "id": "fd687323-c8be-4fec-96dc-9c496781c60a",
   "metadata": {},
   "outputs": [],
   "source": [
    "soup = BeautifulSoup(page.text, \"html.parser\")"
   ]
  },
  {
   "cell_type": "code",
   "execution_count": 13,
   "id": "3ae08d45-2234-408c-9687-fb7584c718a8",
   "metadata": {},
   "outputs": [],
   "source": [
    "quotes = soup.find_all(\"blockquote\")"
   ]
  },
  {
   "cell_type": "code",
   "execution_count": 14,
   "id": "7369f6eb-5e9a-48ea-9c99-b0684a1fdb00",
   "metadata": {},
   "outputs": [
    {
     "data": {
      "text/plain": [
       "[<blockquote>There is a natural aristocracy among men. The grounds of this are virtue and talents. </blockquote>,\n",
       " <blockquote>All our words from loose using have lost their edge. </blockquote>,\n",
       " <blockquote>God couldn't be everywhere, so he created mothers </blockquote>,\n",
       " <blockquote>Be not afraid of going slowly, be afraid only of standing still. </blockquote>,\n",
       " <blockquote>Learn from yesterday, live for today, hope for tomorrow. </blockquote>,\n",
       " <blockquote>Do not confine your children to your own learning, for they were born in another time. </blockquote>,\n",
       " <blockquote>I hear and I forget, I see and I remember. I do and I understand. </blockquote>,\n",
       " <blockquote>In teaching others we teach ourselves. </blockquote>,\n",
       " <blockquote>Happiness will never come to those who fail to appreciate what they already have. </blockquote>,\n",
       " <blockquote>Without His love I can do nothing, with His love there is nothing I cannot do. </blockquote>]"
      ]
     },
     "execution_count": 14,
     "metadata": {},
     "output_type": "execute_result"
    }
   ],
   "source": [
    "quotes"
   ]
  },
  {
   "cell_type": "code",
   "execution_count": 15,
   "id": "d4a15ca7-03df-4c4c-b084-44b9051888d0",
   "metadata": {},
   "outputs": [
    {
     "data": {
      "text/plain": [
       "'There is a natural aristocracy among men. The grounds of this are virtue and talents. '"
      ]
     },
     "execution_count": 15,
     "metadata": {},
     "output_type": "execute_result"
    }
   ],
   "source": [
    "quotes[0].text"
   ]
  },
  {
   "cell_type": "code",
   "execution_count": 16,
   "id": "e6ef667b-0ff7-4c4d-893e-ccc5bcbe81ef",
   "metadata": {},
   "outputs": [],
   "source": [
    "quote_list = []\n",
    "for quote in quotes:\n",
    "    string = quote.text\n",
    "    quote_list.append(string)"
   ]
  },
  {
   "cell_type": "code",
   "execution_count": 17,
   "id": "178b8bb9-dcbd-4483-89e0-73337ab9eb51",
   "metadata": {},
   "outputs": [
    {
     "data": {
      "text/plain": [
       "['There is a natural aristocracy among men. The grounds of this are virtue and talents. ',\n",
       " 'All our words from loose using have lost their edge. ',\n",
       " \"God couldn't be everywhere, so he created mothers \",\n",
       " 'Be not afraid of going slowly, be afraid only of standing still. ',\n",
       " 'Learn from yesterday, live for today, hope for tomorrow. ',\n",
       " 'Do not confine your children to your own learning, for they were born in another time. ',\n",
       " 'I hear and I forget, I see and I remember. I do and I understand. ',\n",
       " 'In teaching others we teach ourselves. ',\n",
       " 'Happiness will never come to those who fail to appreciate what they already have. ',\n",
       " 'Without His love I can do nothing, with His love there is nothing I cannot do. ']"
      ]
     },
     "execution_count": 17,
     "metadata": {},
     "output_type": "execute_result"
    }
   ],
   "source": [
    "quote_list"
   ]
  },
  {
   "cell_type": "code",
   "execution_count": 18,
   "id": "1a7c8728-fa95-43c7-a618-52bda554b725",
   "metadata": {},
   "outputs": [
    {
     "data": {
      "text/html": [
       "<div>\n",
       "<style scoped>\n",
       "    .dataframe tbody tr th:only-of-type {\n",
       "        vertical-align: middle;\n",
       "    }\n",
       "\n",
       "    .dataframe tbody tr th {\n",
       "        vertical-align: top;\n",
       "    }\n",
       "\n",
       "    .dataframe thead th {\n",
       "        text-align: right;\n",
       "    }\n",
       "</style>\n",
       "<table border=\"1\" class=\"dataframe\">\n",
       "  <thead>\n",
       "    <tr style=\"text-align: right;\">\n",
       "      <th></th>\n",
       "      <th>Quote</th>\n",
       "    </tr>\n",
       "  </thead>\n",
       "  <tbody>\n",
       "    <tr>\n",
       "      <th>0</th>\n",
       "      <td>There is a natural aristocracy among men. The ...</td>\n",
       "    </tr>\n",
       "    <tr>\n",
       "      <th>1</th>\n",
       "      <td>All our words from loose using have lost their...</td>\n",
       "    </tr>\n",
       "    <tr>\n",
       "      <th>2</th>\n",
       "      <td>God couldn't be everywhere, so he created moth...</td>\n",
       "    </tr>\n",
       "    <tr>\n",
       "      <th>3</th>\n",
       "      <td>Be not afraid of going slowly, be afraid only ...</td>\n",
       "    </tr>\n",
       "    <tr>\n",
       "      <th>4</th>\n",
       "      <td>Learn from yesterday, live for today, hope for...</td>\n",
       "    </tr>\n",
       "    <tr>\n",
       "      <th>5</th>\n",
       "      <td>Do not confine your children to your own learn...</td>\n",
       "    </tr>\n",
       "    <tr>\n",
       "      <th>6</th>\n",
       "      <td>I hear and I forget, I see and I remember. I d...</td>\n",
       "    </tr>\n",
       "    <tr>\n",
       "      <th>7</th>\n",
       "      <td>In teaching others we teach ourselves.</td>\n",
       "    </tr>\n",
       "    <tr>\n",
       "      <th>8</th>\n",
       "      <td>Happiness will never come to those who fail to...</td>\n",
       "    </tr>\n",
       "    <tr>\n",
       "      <th>9</th>\n",
       "      <td>Without His love I can do nothing, with His lo...</td>\n",
       "    </tr>\n",
       "  </tbody>\n",
       "</table>\n",
       "</div>"
      ],
      "text/plain": [
       "                                               Quote\n",
       "0  There is a natural aristocracy among men. The ...\n",
       "1  All our words from loose using have lost their...\n",
       "2  God couldn't be everywhere, so he created moth...\n",
       "3  Be not afraid of going slowly, be afraid only ...\n",
       "4  Learn from yesterday, live for today, hope for...\n",
       "5  Do not confine your children to your own learn...\n",
       "6  I hear and I forget, I see and I remember. I d...\n",
       "7            In teaching others we teach ourselves. \n",
       "8  Happiness will never come to those who fail to...\n",
       "9  Without His love I can do nothing, with His lo..."
      ]
     },
     "execution_count": 18,
     "metadata": {},
     "output_type": "execute_result"
    }
   ],
   "source": [
    "import pandas as pd\n",
    "df = pd.DataFrame(quote_list, columns=[\"Quote\"])\n",
    "df"
   ]
  },
  {
   "cell_type": "code",
   "execution_count": 19,
   "id": "5660ab9e-6e9d-4bd9-affe-67dee25ad54a",
   "metadata": {},
   "outputs": [],
   "source": [
    "authors = soup.find_all(\"p\", class_=\"a\")"
   ]
  },
  {
   "cell_type": "code",
   "execution_count": 20,
   "id": "84e43614-2c68-4f3c-86c7-1f40d7738266",
   "metadata": {},
   "outputs": [
    {
     "data": {
      "text/plain": [
       "[<p class=\"a\">\n",
       " <a href=\"/web/20180908144902/http://en.proverbia.net/citasautor.asp?autor=13797\" title=\"Thomas Jefferson Quotes\">Thomas Jefferson</a> <span>(1743-1826) Third president of the United States.</span>\n",
       " </p>,\n",
       " <p class=\"a\">\n",
       " <a href=\"/web/20180908144902/http://en.proverbia.net/citasautor.asp?autor=13355\" title=\"Ernest Hemingway Quotes\">Ernest Hemingway</a> <span>(1898-1961) American Writer.</span>\n",
       " </p>,\n",
       " <p class=\"a\">\n",
       " <a href=\"/web/20180908144902/http://en.proverbia.net/citasautor.asp?autor=15888\" title=\"Jewish proverb Quotes\">Jewish proverb</a> <span></span>\n",
       " </p>,\n",
       " <p class=\"a\">\n",
       " <a href=\"/web/20180908144902/http://en.proverbia.net/citasautor.asp?autor=15866\" title=\"Chinese proverb Quotes\">Chinese proverb</a> <span></span>\n",
       " </p>,\n",
       " <p class=\"a\">\n",
       " <a href=\"/web/20180908144902/http://en.proverbia.net/citasautor.asp?autor=17381\" title=\"Unknown Source Quotes\">Unknown Source</a> <span></span>\n",
       " </p>,\n",
       " <p class=\"a\">\n",
       " <a href=\"/web/20180908144902/http://en.proverbia.net/citasautor.asp?autor=15866\" title=\"Chinese proverb Quotes\">Chinese proverb</a> <span></span>\n",
       " </p>,\n",
       " <p class=\"a\">\n",
       " <a href=\"/web/20180908144902/http://en.proverbia.net/citasautor.asp?autor=15866\" title=\"Chinese proverb Quotes\">Chinese proverb</a> <span></span>\n",
       " </p>,\n",
       " <p class=\"a\">\n",
       " <a href=\"/web/20180908144902/http://en.proverbia.net/citasautor.asp?autor=15855\" title=\"Proverb Quotes\">Proverb</a> <span></span>\n",
       " </p>,\n",
       " <p class=\"a\">\n",
       " <a href=\"/web/20180908144902/http://en.proverbia.net/citasautor.asp?autor=17381\" title=\"Unknown Source Quotes\">Unknown Source</a> <span></span>\n",
       " </p>,\n",
       " <p class=\"a\">\n",
       " <a href=\"/web/20180908144902/http://en.proverbia.net/citasautor.asp?autor=17381\" title=\"Unknown Source Quotes\">Unknown Source</a> <span></span>\n",
       " </p>]"
      ]
     },
     "execution_count": 20,
     "metadata": {},
     "output_type": "execute_result"
    }
   ],
   "source": [
    "authors"
   ]
  },
  {
   "cell_type": "code",
   "execution_count": 21,
   "id": "d941777d-6020-41e4-aea4-1a9179e541d5",
   "metadata": {},
   "outputs": [
    {
     "data": {
      "text/plain": [
       "'\\nThomas Jefferson (1743-1826) Third president of the United States.\\n'"
      ]
     },
     "execution_count": 21,
     "metadata": {},
     "output_type": "execute_result"
    }
   ],
   "source": [
    "authors[0].text"
   ]
  },
  {
   "cell_type": "code",
   "execution_count": 22,
   "id": "08a3d580-cae7-4e25-81df-ee285a2710df",
   "metadata": {},
   "outputs": [
    {
     "data": {
      "text/plain": [
       "'Thomas Jefferson (1743-1826) Third president of the United States.'"
      ]
     },
     "execution_count": 22,
     "metadata": {},
     "output_type": "execute_result"
    }
   ],
   "source": [
    "authors[0].text[1:-1]"
   ]
  },
  {
   "cell_type": "code",
   "execution_count": 23,
   "id": "ce6edae3-17cf-4d12-b419-0a948b4d1f42",
   "metadata": {},
   "outputs": [
    {
     "data": {
      "text/html": [
       "<div>\n",
       "<style scoped>\n",
       "    .dataframe tbody tr th:only-of-type {\n",
       "        vertical-align: middle;\n",
       "    }\n",
       "\n",
       "    .dataframe tbody tr th {\n",
       "        vertical-align: top;\n",
       "    }\n",
       "\n",
       "    .dataframe thead th {\n",
       "        text-align: right;\n",
       "    }\n",
       "</style>\n",
       "<table border=\"1\" class=\"dataframe\">\n",
       "  <thead>\n",
       "    <tr style=\"text-align: right;\">\n",
       "      <th></th>\n",
       "      <th>Quote</th>\n",
       "      <th>Author</th>\n",
       "    </tr>\n",
       "  </thead>\n",
       "  <tbody>\n",
       "    <tr>\n",
       "      <th>0</th>\n",
       "      <td>There is a natural aristocracy among men. The ...</td>\n",
       "      <td>Thomas Jefferson (1743-1826) Third president o...</td>\n",
       "    </tr>\n",
       "    <tr>\n",
       "      <th>1</th>\n",
       "      <td>All our words from loose using have lost their...</td>\n",
       "      <td>Ernest Hemingway (1898-1961) American Writer.</td>\n",
       "    </tr>\n",
       "    <tr>\n",
       "      <th>2</th>\n",
       "      <td>God couldn't be everywhere, so he created moth...</td>\n",
       "      <td>Jewish proverb</td>\n",
       "    </tr>\n",
       "    <tr>\n",
       "      <th>3</th>\n",
       "      <td>Be not afraid of going slowly, be afraid only ...</td>\n",
       "      <td>Chinese proverb</td>\n",
       "    </tr>\n",
       "    <tr>\n",
       "      <th>4</th>\n",
       "      <td>Learn from yesterday, live for today, hope for...</td>\n",
       "      <td>Unknown Source</td>\n",
       "    </tr>\n",
       "    <tr>\n",
       "      <th>5</th>\n",
       "      <td>Do not confine your children to your own learn...</td>\n",
       "      <td>Chinese proverb</td>\n",
       "    </tr>\n",
       "    <tr>\n",
       "      <th>6</th>\n",
       "      <td>I hear and I forget, I see and I remember. I d...</td>\n",
       "      <td>Chinese proverb</td>\n",
       "    </tr>\n",
       "    <tr>\n",
       "      <th>7</th>\n",
       "      <td>In teaching others we teach ourselves.</td>\n",
       "      <td>Proverb</td>\n",
       "    </tr>\n",
       "    <tr>\n",
       "      <th>8</th>\n",
       "      <td>Happiness will never come to those who fail to...</td>\n",
       "      <td>Unknown Source</td>\n",
       "    </tr>\n",
       "    <tr>\n",
       "      <th>9</th>\n",
       "      <td>Without His love I can do nothing, with His lo...</td>\n",
       "      <td>Unknown Source</td>\n",
       "    </tr>\n",
       "  </tbody>\n",
       "</table>\n",
       "</div>"
      ],
      "text/plain": [
       "                                               Quote  \\\n",
       "0  There is a natural aristocracy among men. The ...   \n",
       "1  All our words from loose using have lost their...   \n",
       "2  God couldn't be everywhere, so he created moth...   \n",
       "3  Be not afraid of going slowly, be afraid only ...   \n",
       "4  Learn from yesterday, live for today, hope for...   \n",
       "5  Do not confine your children to your own learn...   \n",
       "6  I hear and I forget, I see and I remember. I d...   \n",
       "7            In teaching others we teach ourselves.    \n",
       "8  Happiness will never come to those who fail to...   \n",
       "9  Without His love I can do nothing, with His lo...   \n",
       "\n",
       "                                              Author  \n",
       "0  Thomas Jefferson (1743-1826) Third president o...  \n",
       "1      Ernest Hemingway (1898-1961) American Writer.  \n",
       "2                                    Jewish proverb   \n",
       "3                                   Chinese proverb   \n",
       "4                                    Unknown Source   \n",
       "5                                   Chinese proverb   \n",
       "6                                   Chinese proverb   \n",
       "7                                           Proverb   \n",
       "8                                    Unknown Source   \n",
       "9                                    Unknown Source   "
      ]
     },
     "execution_count": 23,
     "metadata": {},
     "output_type": "execute_result"
    }
   ],
   "source": [
    "author_list = []\n",
    "for author in authors:\n",
    "    string = author.text[1:-1]\n",
    "    author_list.append(string)\n",
    "df[\"Author\"] = author_list\n",
    "df"
   ]
  },
  {
   "cell_type": "markdown",
   "id": "66e5df6c-0692-47c0-b236-2d64c72e110f",
   "metadata": {},
   "source": [
    "### Special case:scraping tables"
   ]
  },
  {
   "cell_type": "markdown",
   "id": "3ec1850f-447d-4589-84db-e4bbab4072cf",
   "metadata": {},
   "source": [
    "Single table"
   ]
  },
  {
   "cell_type": "code",
   "execution_count": 24,
   "id": "ccf64f52-e67c-47ef-84ad-48aeb857dcff",
   "metadata": {},
   "outputs": [],
   "source": [
    "tables = pd.read_html(\"https://world.openfoodfacts.org/additives\")"
   ]
  },
  {
   "cell_type": "code",
   "execution_count": 25,
   "id": "0421dcf1-6937-4b27-8fb1-1bdaa99d1730",
   "metadata": {},
   "outputs": [
    {
     "name": "stdout",
     "output_type": "stream",
     "text": [
      "1\n"
     ]
    }
   ],
   "source": [
    "print(len(tables))"
   ]
  },
  {
   "cell_type": "code",
   "execution_count": 26,
   "id": "0a2359bf-b028-4a70-9382-de422dc82f8f",
   "metadata": {},
   "outputs": [
    {
     "name": "stdout",
     "output_type": "stream",
     "text": [
      "                   Additive  Products   * Risk\n",
      "0        E330 - Citric acid    197970 NaN  NaN\n",
      "1          E322 - Lecithins    131976 NaN  NaN\n",
      "2          E322i - Lecithin    110584 NaN  NaN\n",
      "3  E500 - Sodium carbonates     82999 NaN  NaN\n",
      "4        E415 - Xanthan gum     68782 NaN  NaN\n"
     ]
    }
   ],
   "source": [
    "print(tables[0].head())"
   ]
  },
  {
   "cell_type": "markdown",
   "id": "6efa735b-b2bb-43fe-8cde-e280a31cf758",
   "metadata": {},
   "source": [
    "Many tables"
   ]
  },
  {
   "cell_type": "code",
   "execution_count": 27,
   "id": "15351f26-1735-4a71-b21b-a905a7d25748",
   "metadata": {},
   "outputs": [
    {
     "name": "stdout",
     "output_type": "stream",
     "text": [
      "10\n"
     ]
    }
   ],
   "source": [
    "tables = pd.read_html(\n",
    "\"https://en.wikipedia.org/wiki/World_record_progression_50_metres_freestyle\"\n",
    ")\n",
    "print(len(tables))"
   ]
  },
  {
   "cell_type": "code",
   "execution_count": null,
   "id": "9aa980e0-2793-4170-b27c-2b46f1db0df9",
   "metadata": {},
   "outputs": [],
   "source": [
    "tables # all the tables will be displayed"
   ]
  },
  {
   "cell_type": "code",
   "execution_count": 29,
   "id": "99b2e668-2905-47fc-997b-1d4af43536d0",
   "metadata": {},
   "outputs": [
    {
     "data": {
      "text/html": [
       "<div>\n",
       "<style scoped>\n",
       "    .dataframe tbody tr th:only-of-type {\n",
       "        vertical-align: middle;\n",
       "    }\n",
       "\n",
       "    .dataframe tbody tr th {\n",
       "        vertical-align: top;\n",
       "    }\n",
       "\n",
       "    .dataframe thead th {\n",
       "        text-align: right;\n",
       "    }\n",
       "</style>\n",
       "<table border=\"1\" class=\"dataframe\">\n",
       "  <thead>\n",
       "    <tr style=\"text-align: right;\">\n",
       "      <th></th>\n",
       "      <th>#</th>\n",
       "      <th>Time</th>\n",
       "      <th>Unnamed: 2</th>\n",
       "      <th>Name</th>\n",
       "      <th>Nationality</th>\n",
       "      <th>Date</th>\n",
       "      <th>Meet</th>\n",
       "      <th>Location</th>\n",
       "      <th>Ref</th>\n",
       "    </tr>\n",
       "  </thead>\n",
       "  <tbody>\n",
       "    <tr>\n",
       "      <th>0</th>\n",
       "      <td>1</td>\n",
       "      <td>23.86</td>\n",
       "      <td>†</td>\n",
       "      <td>Jonty Skinner</td>\n",
       "      <td>South Africa</td>\n",
       "      <td>Aug 14, 1976</td>\n",
       "      <td>US National Championships</td>\n",
       "      <td>Philadelphia, Pennsylvania, United States</td>\n",
       "      <td>NaN</td>\n",
       "    </tr>\n",
       "    <tr>\n",
       "      <th>1</th>\n",
       "      <td>2</td>\n",
       "      <td>23.74</td>\n",
       "      <td>NaN</td>\n",
       "      <td>Joe Bottom</td>\n",
       "      <td>United States</td>\n",
       "      <td>Jul 3, 1977</td>\n",
       "      <td>Canada Cup</td>\n",
       "      <td>Etobicoke, Canada</td>\n",
       "      <td>NaN</td>\n",
       "    </tr>\n",
       "    <tr>\n",
       "      <th>2</th>\n",
       "      <td>3</td>\n",
       "      <td>23.72</td>\n",
       "      <td>NaN</td>\n",
       "      <td>Ron Manganiello</td>\n",
       "      <td>United States</td>\n",
       "      <td>Jul 29, 1978</td>\n",
       "      <td>-</td>\n",
       "      <td>Miami, Florida, United States</td>\n",
       "      <td>NaN</td>\n",
       "    </tr>\n",
       "    <tr>\n",
       "      <th>3</th>\n",
       "      <td>4</td>\n",
       "      <td>23.70</td>\n",
       "      <td>NaN</td>\n",
       "      <td>Klaus Steinbach</td>\n",
       "      <td>West Germany</td>\n",
       "      <td>Jul 23, 1979</td>\n",
       "      <td>-</td>\n",
       "      <td>Freiburg, West Germany</td>\n",
       "      <td>NaN</td>\n",
       "    </tr>\n",
       "    <tr>\n",
       "      <th>4</th>\n",
       "      <td>5</td>\n",
       "      <td>23.66</td>\n",
       "      <td>NaN</td>\n",
       "      <td>Chris Cavanaugh</td>\n",
       "      <td>United States</td>\n",
       "      <td>Feb 2, 1980</td>\n",
       "      <td>International Invitational</td>\n",
       "      <td>Amersfoort, Netherlands</td>\n",
       "      <td>NaN</td>\n",
       "    </tr>\n",
       "  </tbody>\n",
       "</table>\n",
       "</div>"
      ],
      "text/plain": [
       "   #   Time Unnamed: 2             Name    Nationality          Date  \\\n",
       "0  1  23.86          †    Jonty Skinner   South Africa  Aug 14, 1976   \n",
       "1  2  23.74        NaN       Joe Bottom  United States   Jul 3, 1977   \n",
       "2  3  23.72        NaN  Ron Manganiello  United States  Jul 29, 1978   \n",
       "3  4  23.70        NaN  Klaus Steinbach   West Germany  Jul 23, 1979   \n",
       "4  5  23.66        NaN  Chris Cavanaugh  United States   Feb 2, 1980   \n",
       "\n",
       "                         Meet                                   Location  Ref  \n",
       "0   US National Championships  Philadelphia, Pennsylvania, United States  NaN  \n",
       "1                  Canada Cup                          Etobicoke, Canada  NaN  \n",
       "2                           -              Miami, Florida, United States  NaN  \n",
       "3                           -                     Freiburg, West Germany  NaN  \n",
       "4  International Invitational                    Amersfoort, Netherlands  NaN  "
      ]
     },
     "execution_count": 29,
     "metadata": {},
     "output_type": "execute_result"
    }
   ],
   "source": [
    "tables[0].head()"
   ]
  },
  {
   "cell_type": "code",
   "execution_count": 31,
   "id": "7d79b7de-d959-4117-a34b-9e635a2762de",
   "metadata": {},
   "outputs": [
    {
     "name": "stdout",
     "output_type": "stream",
     "text": [
      "   #   Time Unnamed: 2             Name    Nationality              Date  \\\n",
      "0  1  21.76        NaN     Nils Rudolph   East Germany  10 February 1990   \n",
      "1  2  21.64        NaN    Steve Crocker  United States     21 March 1992   \n",
      "2  3  21.60        NaN      Mark Foster  Great Britain  17 February 1993   \n",
      "3  4  21.50        NaN  Alexander Popov         Russia     13 March 1994   \n",
      "4  5  21.48          h      Mark Foster  Great Britain  13 December 1998   \n",
      "\n",
      "                     Meet                      Location  Ref  \n",
      "0          FINA World Cup            Bonn, West Germany  NaN  \n",
      "1                       -  Dallas, Texas, United States  NaN  \n",
      "2               World Cup     Sheffield, United Kingdom  NaN  \n",
      "3               World Cup    Desenzano del Garda, Italy  NaN  \n",
      "4  European Championships     Sheffield, United Kingdom  NaN  \n"
     ]
    }
   ],
   "source": [
    "print(tables[1].head())"
   ]
  },
  {
   "cell_type": "code",
   "execution_count": 32,
   "id": "b64b1329-91b4-431c-b054-c9f08564805b",
   "metadata": {},
   "outputs": [
    {
     "name": "stdout",
     "output_type": "stream",
     "text": [
      "   #   Time Unnamed: 2              Name    Nationality            Date  \\\n",
      "0  1  26.99       r, †    Kornelia Ender   East Germany    26 July 1975   \n",
      "1  2  26.95        NaN    Johanna Malloy         Canada  16 August 1977   \n",
      "2  3  26.74        NaN       Anne Jardin         Canada  19 August 1978   \n",
      "3  4  26.61          h  Cynthia Woodhead  United States   10 April 1980   \n",
      "4  5  26.53          h     Kelly Asplund  United States   10 April 1980   \n",
      "\n",
      "                               Meet                      Location  Ref  \n",
      "0               World Championships                Cali, Colombia  NaN  \n",
      "1             Canadian Summer Games        St. John's, NL, Canada  NaN  \n",
      "2            Canadian Championships             Etobicoke, Canada  NaN  \n",
      "3  US Spring National Championships  Austin, Texas, United States  NaN  \n",
      "4  US Spring National Championships  Austin, Texas, United States  NaN  \n"
     ]
    }
   ],
   "source": [
    "print(tables[2].head())"
   ]
  },
  {
   "cell_type": "code",
   "execution_count": 33,
   "id": "cbc0299b-9f1a-470d-ba34-2de7e97ad949",
   "metadata": {},
   "outputs": [
    {
     "name": "stdout",
     "output_type": "stream",
     "text": [
      "   Ath.#  Perf.#   Time              Athlete         Nation              Date  \\\n",
      "0    1.0     1.0  22.83       Gretchen Walsh  United States  15 December 2024   \n",
      "1    NaN     2.0  22.87             Walsh #2            NaN  14 December 2024   \n",
      "2    2.0     3.0  22.93  Ranomi Kromowidjojo    Netherlands     7 August 2017   \n",
      "3    3.0     4.0  23.00       Sarah Sjöström         Sweden     7 August 2017   \n",
      "4    NaN     5.0  23.02             Walsh #3            NaN  14 December 2024   \n",
      "\n",
      "      Place   Ref.  \n",
      "0  Budapest   [28]  \n",
      "1  Budapest   [27]  \n",
      "2    Berlin   [26]  \n",
      "3    Berlin   [26]  \n",
      "4  Budapest  [113]  \n"
     ]
    }
   ],
   "source": [
    "print(tables[-2].head())"
   ]
  },
  {
   "cell_type": "code",
   "execution_count": 38,
   "id": "41948208-006a-4a6a-9539-7f0020c0e823",
   "metadata": {},
   "outputs": [
    {
     "name": "stdout",
     "output_type": "stream",
     "text": [
      "1\n",
      "     Time          Name    Nationality\n",
      "10  22.54   Robin Leamy  United States\n",
      "11  22.52  Dano Halsall    Switzerland\n",
      "12  22.40     Tom Jager  United States\n",
      "13  22.33   Matt Biondi  United States\n",
      "14  22.33   Matt Biondi  United States\n"
     ]
    }
   ],
   "source": [
    "tables = pd.read_html(\n",
    "    \"https://en.wikipedia.org/wiki/World_record_progression_50_metres_freestyle\",\n",
    "    match=\"Switzerland\",\n",
    ")\n",
    "print(len(tables)) # 1\n",
    "print(tables[0][10:15][[\"Time\", \"Name\", \"Nationality\"]])"
   ]
  },
  {
   "cell_type": "code",
   "execution_count": 36,
   "id": "d5a18908-e004-497d-a08e-7d0d09160031",
   "metadata": {},
   "outputs": [
    {
     "name": "stdout",
     "output_type": "stream",
     "text": [
      "10\n",
      "     Time                Name    Nationality\n",
      "0   23.86       Jonty Skinner   South Africa\n",
      "1   23.74          Joe Bottom  United States\n",
      "2   23.72     Ron Manganiello  United States\n",
      "3   23.70     Klaus Steinbach   West Germany\n",
      "4   23.66     Chris Cavanaugh  United States\n",
      "5   23.12     Chris Cavanaugh  United States\n",
      "6   22.96        Rowdy Gaines  United States\n",
      "7   22.83         Bruce Stahl  United States\n",
      "8   22.83          Joe Bottom  United States\n",
      "9   22.71          Joe Bottom  United States\n",
      "10  22.54         Robin Leamy  United States\n",
      "11  22.52        Dano Halsall    Switzerland\n",
      "12  22.40           Tom Jager  United States\n",
      "13  22.33         Matt Biondi  United States\n",
      "14  22.33         Matt Biondi  United States\n",
      "15  22.32           Tom Jager  United States\n",
      "16  22.23           Tom Jager  United States\n",
      "17  22.18      Peter Williams   South Africa\n",
      "18  22.14         Matt Biondi  United States\n",
      "19  22.12           Tom Jager  United States\n",
      "20  21.98           Tom Jager  United States\n",
      "21  21.81           Tom Jager  United States\n",
      "22  21.64     Alexander Popov         Russia\n",
      "23  21.56      Eamon Sullivan      Australia\n",
      "24  21.50       Alain Bernard         France\n",
      "25  21.41      Eamon Sullivan      Australia\n",
      "26  21.28      Eamon Sullivan      Australia\n",
      "27  20.94  Frédérick Bousquet         France\n",
      "28  20.91         César Cielo         Brazil\n"
     ]
    }
   ],
   "source": [
    "tables = pd.read_html(\n",
    "    \"https://en.wikipedia.org/wiki/World_record_progression_50_metres_freestyle\",\n",
    ")\n",
    "print(len(tables)) # 1\n",
    "print(tables[0][0:50][[\"Time\", \"Name\", \"Nationality\"]])"
   ]
  },
  {
   "cell_type": "code",
   "execution_count": 37,
   "id": "a303a150-558f-4064-84fd-7fdba59b8baa",
   "metadata": {},
   "outputs": [
    {
     "name": "stdout",
     "output_type": "stream",
     "text": [
      "10\n",
      "     Time                Name    Nationality\n",
      "0   23.86       Jonty Skinner   South Africa\n",
      "1   23.74          Joe Bottom  United States\n",
      "2   23.72     Ron Manganiello  United States\n",
      "3   23.70     Klaus Steinbach   West Germany\n",
      "4   23.66     Chris Cavanaugh  United States\n",
      "5   23.12     Chris Cavanaugh  United States\n",
      "6   22.96        Rowdy Gaines  United States\n",
      "7   22.83         Bruce Stahl  United States\n",
      "8   22.83          Joe Bottom  United States\n",
      "9   22.71          Joe Bottom  United States\n",
      "10  22.54         Robin Leamy  United States\n",
      "11  22.52        Dano Halsall    Switzerland\n",
      "12  22.40           Tom Jager  United States\n",
      "13  22.33         Matt Biondi  United States\n",
      "14  22.33         Matt Biondi  United States\n",
      "15  22.32           Tom Jager  United States\n",
      "16  22.23           Tom Jager  United States\n",
      "17  22.18      Peter Williams   South Africa\n",
      "18  22.14         Matt Biondi  United States\n",
      "19  22.12           Tom Jager  United States\n",
      "20  21.98           Tom Jager  United States\n",
      "21  21.81           Tom Jager  United States\n",
      "22  21.64     Alexander Popov         Russia\n",
      "23  21.56      Eamon Sullivan      Australia\n",
      "24  21.50       Alain Bernard         France\n",
      "25  21.41      Eamon Sullivan      Australia\n",
      "26  21.28      Eamon Sullivan      Australia\n",
      "27  20.94  Frédérick Bousquet         France\n",
      "28  20.91         César Cielo         Brazil\n"
     ]
    }
   ],
   "source": [
    "tables = pd.read_html(\n",
    "    \"https://en.wikipedia.org/wiki/World_record_progression_50_metres_freestyle\",\n",
    ")\n",
    "print(len(tables)) # 1\n",
    "print(tables[0][[\"Time\", \"Name\", \"Nationality\"]])"
   ]
  },
  {
   "cell_type": "code",
   "execution_count": null,
   "id": "cd4797b9-a715-4115-a220-7c1b8513da76",
   "metadata": {},
   "outputs": [],
   "source": []
  }
 ],
 "metadata": {
  "kernelspec": {
   "display_name": "Python 3 (ipykernel)",
   "language": "python",
   "name": "python3"
  },
  "language_info": {
   "codemirror_mode": {
    "name": "ipython",
    "version": 3
   },
   "file_extension": ".py",
   "mimetype": "text/x-python",
   "name": "python",
   "nbconvert_exporter": "python",
   "pygments_lexer": "ipython3",
   "version": "3.9.7"
  }
 },
 "nbformat": 4,
 "nbformat_minor": 5
}
